{
  "cells": [
    {
      "cell_type": "markdown",
      "metadata": {
        "id": "view-in-github",
        "colab_type": "text"
      },
      "source": [
        "<a href=\"https://colab.research.google.com/github/Anusha-1224/image-captioning/blob/main/Copy_of_image_captioning_bert_21_04_22.ipynb\" target=\"_parent\"><img src=\"https://colab.research.google.com/assets/colab-badge.svg\" alt=\"Open In Colab\"/></a>"
      ]
    },
    {
      "cell_type": "code",
      "execution_count": null,
      "metadata": {
        "id": "E3b2kqkpaCe7"
      },
      "outputs": [],
      "source": [
        ""
      ]
    },
    {
      "cell_type": "markdown",
      "metadata": {
        "id": "ue0sevfKXG7u"
      },
      "source": [
        "# **Image Captioning**"
      ]
    },
    {
      "cell_type": "code",
      "execution_count": null,
      "metadata": {
        "colab": {
          "base_uri": "https://localhost:8080/"
        },
        "id": "r99WTaHejg_x",
        "outputId": "229157a7-f8cc-4bd4-d04e-550569f80c34"
      },
      "outputs": [
        {
          "output_type": "stream",
          "name": "stdout",
          "text": [
            "Looking in indexes: https://pypi.org/simple, https://us-python.pkg.dev/colab-wheels/public/simple/\n",
            "Collecting pytorch-pretrained-bert\n",
            "  Downloading pytorch_pretrained_bert-0.6.2-py3-none-any.whl (123 kB)\n",
            "\u001b[K     |████████████████████████████████| 123 kB 28.3 MB/s \n",
            "\u001b[?25hCollecting boto3\n",
            "  Downloading boto3-1.24.43-py3-none-any.whl (132 kB)\n",
            "\u001b[K     |████████████████████████████████| 132 kB 66.2 MB/s \n",
            "\u001b[?25hRequirement already satisfied: requests in /usr/local/lib/python3.7/dist-packages (from pytorch-pretrained-bert) (2.23.0)\n",
            "Requirement already satisfied: numpy in /usr/local/lib/python3.7/dist-packages (from pytorch-pretrained-bert) (1.21.6)\n",
            "Requirement already satisfied: tqdm in /usr/local/lib/python3.7/dist-packages (from pytorch-pretrained-bert) (4.64.0)\n",
            "Requirement already satisfied: torch>=0.4.1 in /usr/local/lib/python3.7/dist-packages (from pytorch-pretrained-bert) (1.12.0+cu113)\n",
            "Requirement already satisfied: regex in /usr/local/lib/python3.7/dist-packages (from pytorch-pretrained-bert) (2022.6.2)\n",
            "Requirement already satisfied: typing-extensions in /usr/local/lib/python3.7/dist-packages (from torch>=0.4.1->pytorch-pretrained-bert) (4.1.1)\n",
            "Collecting s3transfer<0.7.0,>=0.6.0\n",
            "  Downloading s3transfer-0.6.0-py3-none-any.whl (79 kB)\n",
            "\u001b[K     |████████████████████████████████| 79 kB 9.6 MB/s \n",
            "\u001b[?25hCollecting jmespath<2.0.0,>=0.7.1\n",
            "  Downloading jmespath-1.0.1-py3-none-any.whl (20 kB)\n",
            "Collecting botocore<1.28.0,>=1.27.43\n",
            "  Downloading botocore-1.27.43-py3-none-any.whl (9.0 MB)\n",
            "\u001b[K     |████████████████████████████████| 9.0 MB 51.5 MB/s \n",
            "\u001b[?25hRequirement already satisfied: python-dateutil<3.0.0,>=2.1 in /usr/local/lib/python3.7/dist-packages (from botocore<1.28.0,>=1.27.43->boto3->pytorch-pretrained-bert) (2.8.2)\n",
            "Collecting urllib3<1.27,>=1.25.4\n",
            "  Downloading urllib3-1.26.11-py2.py3-none-any.whl (139 kB)\n",
            "\u001b[K     |████████████████████████████████| 139 kB 73.7 MB/s \n",
            "\u001b[?25hRequirement already satisfied: six>=1.5 in /usr/local/lib/python3.7/dist-packages (from python-dateutil<3.0.0,>=2.1->botocore<1.28.0,>=1.27.43->boto3->pytorch-pretrained-bert) (1.15.0)\n",
            "Requirement already satisfied: idna<3,>=2.5 in /usr/local/lib/python3.7/dist-packages (from requests->pytorch-pretrained-bert) (2.10)\n",
            "Requirement already satisfied: certifi>=2017.4.17 in /usr/local/lib/python3.7/dist-packages (from requests->pytorch-pretrained-bert) (2022.6.15)\n",
            "  Downloading urllib3-1.25.11-py2.py3-none-any.whl (127 kB)\n",
            "\u001b[K     |████████████████████████████████| 127 kB 68.1 MB/s \n",
            "\u001b[?25hRequirement already satisfied: chardet<4,>=3.0.2 in /usr/local/lib/python3.7/dist-packages (from requests->pytorch-pretrained-bert) (3.0.4)\n",
            "Installing collected packages: urllib3, jmespath, botocore, s3transfer, boto3, pytorch-pretrained-bert\n",
            "  Attempting uninstall: urllib3\n",
            "    Found existing installation: urllib3 1.24.3\n",
            "    Uninstalling urllib3-1.24.3:\n",
            "      Successfully uninstalled urllib3-1.24.3\n",
            "Successfully installed boto3-1.24.43 botocore-1.27.43 jmespath-1.0.1 pytorch-pretrained-bert-0.6.2 s3transfer-0.6.0 urllib3-1.25.11\n"
          ]
        }
      ],
      "source": [
        "import pip\n",
        "!pip install pytorch-pretrained-bert"
      ]
    },
    {
      "cell_type": "code",
      "execution_count": null,
      "metadata": {
        "colab": {
          "base_uri": "https://localhost:8080/"
        },
        "id": "BgQx1ZozOmmF",
        "outputId": "7a8762c9-aefa-4ccc-9264-113d54988b41"
      },
      "outputs": [
        {
          "output_type": "stream",
          "name": "stdout",
          "text": [
            "Looking in indexes: https://pypi.org/simple, https://us-python.pkg.dev/colab-wheels/public/simple/\n",
            "Collecting bcolz\n",
            "  Downloading bcolz-1.2.1.tar.gz (1.5 MB)\n",
            "\u001b[K     |████████████████████████████████| 1.5 MB 29.9 MB/s \n",
            "\u001b[?25hRequirement already satisfied: numpy>=1.7 in /usr/local/lib/python3.7/dist-packages (from bcolz) (1.21.6)\n",
            "Building wheels for collected packages: bcolz\n",
            "  Building wheel for bcolz (setup.py) ... \u001b[?25l\u001b[?25hdone\n",
            "  Created wheel for bcolz: filename=bcolz-1.2.1-cp37-cp37m-linux_x86_64.whl size=2648213 sha256=a2567078fe8deba8691378a58692385aefdda83d5484e2ab7ba755485d83e067\n",
            "  Stored in directory: /root/.cache/pip/wheels/2c/35/ca/9d914de345914e2446ea285170329f771b8abba2a00f7650bd\n",
            "Successfully built bcolz\n",
            "Installing collected packages: bcolz\n",
            "Successfully installed bcolz-1.2.1\n"
          ]
        }
      ],
      "source": [
        "!pip install bcolz"
      ]
    },
    {
      "cell_type": "code",
      "execution_count": null,
      "metadata": {
        "id": "NVvM87PbW9Qn",
        "colab": {
          "base_uri": "https://localhost:8080/"
        },
        "outputId": "22ac3aa8-fa88-48ab-cb2e-87725bb2e08c"
      },
      "outputs": [
        {
          "output_type": "stream",
          "name": "stdout",
          "text": [
            "Mounted at /content/drive\n"
          ]
        }
      ],
      "source": [
        "#Load dataset from drive\n",
        "from google.colab import drive\n",
        "drive.mount('/content/drive')"
      ]
    },
    {
      "cell_type": "code",
      "execution_count": null,
      "metadata": {
        "id": "mZww66GlTXx3"
      },
      "outputs": [],
      "source": [
        "#Import required libraries\n",
        "import tensorflow\n",
        "\n",
        "# keras version\n",
        "import keras\n",
        "from PIL import Image\n",
        "from nltk.tokenize import word_tokenize\n",
        "from tqdm.auto import tqdm\n",
        "\n",
        "import numpy as np\n",
        "import pandas as pd\n",
        "import matplotlib.pyplot as plt\n",
        "from sklearn.model_selection import train_test_split\n",
        "from sklearn.feature_extraction.text import CountVectorizer\n",
        "\n",
        "\n",
        "import torch\n",
        "from torch import nn, optim\n",
        "import torch.onnx\n",
        "import torch.nn.functional as F\n",
        "from torchvision.transforms import transforms\n",
        "from torch.utils.data import Dataset, DataLoader\n",
        "from PIL import Image\n",
        "from nltk.tokenize import word_tokenize\n",
        "from tqdm.auto import tqdm\n",
        "from tensorflow.keras.optimizers import SGD, Adam, RMSprop"
      ]
    },
    {
      "cell_type": "code",
      "execution_count": null,
      "metadata": {
        "id": "OKFVRXthU34A",
        "colab": {
          "base_uri": "https://localhost:8080/",
          "height": 500
        },
        "outputId": "d0e89515-4c43-43e8-baa8-d35ae402b0be"
      },
      "outputs": [
        {
          "output_type": "display_data",
          "data": {
            "text/plain": [
              "<PIL.JpegImagePlugin.JpegImageFile image mode=RGB size=224x224 at 0x7F8EB9CDCC50>"
            ],
            "image/png": "[encoded data removed]"
          },
          "metadata": {}
        },
        {
          "output_type": "stream",
          "name": "stdout",
          "text": [
            "anteroposterior view of the final position of radio frequency needle below  and  thoracic pedicle after nonionic contrast injection.\n"
          ]
        },
        {
          "output_type": "display_data",
          "data": {
            "text/plain": [
              "<PIL.JpegImagePlugin.JpegImageFile image mode=RGB size=224x224 at 0x7F8EB9CDCC50>"
            ],
            "image/png": "[encoded data removed]"
          },
          "metadata": {}
        },
        {
          "output_type": "stream",
          "name": "stdout",
          "text": [
            "film after glue embolization show no filling in the pseudoaneurysm and the glue angiocatheter.\n"
          ]
        }
      ],
      "source": [
        "#Defining function for sample input-output (from the Flickr dataset)\n",
        "def display_random_data(count=5, seed=3):\n",
        "    np.random.seed(seed)\n",
        "    # random choose images == count\n",
        "    images = np.random.choice(captions['image'].unique(), count)    \n",
        "    # display and their captions\n",
        "    for image in images:\n",
        "        # display image\n",
        "        display(Image.open(f'/content/drive/MyDrive/data/Training_Images/{image}'))\n",
        "        # display caption\n",
        "        img_captions = captions.loc[captions['image']==image, 'caption'].tolist()\n",
        "        for cap in img_captions:\n",
        "            print(cap)\n",
        "display_random_data(2)"
      ]
    },
    {
      "cell_type": "code",
      "execution_count": null,
      "metadata": {
        "id": "VpuJP9I1Ut5e",
        "colab": {
          "base_uri": "https://localhost:8080/",
          "height": 424
        },
        "outputId": "c6a23d74-f4ac-4938-e4a5-cd55d2b61409"
      },
      "outputs": [
        {
          "output_type": "execute_result",
          "data": {
            "text/plain": [
              "                                        image  \\\n",
              "0   ImageCLEFmedCaption_2022_train_000001.jpg   \n",
              "1   ImageCLEFmedCaption_2022_train_000002.jpg   \n",
              "2   ImageCLEFmedCaption_2022_train_000003.jpg   \n",
              "3   ImageCLEFmedCaption_2022_train_000004.jpg   \n",
              "4   ImageCLEFmedCaption_2022_train_000005.jpg   \n",
              "..                                        ...   \n",
              "94  ImageCLEFmedCaption_2022_train_000096.jpg   \n",
              "95  ImageCLEFmedCaption_2022_train_000097.jpg   \n",
              "96  ImageCLEFmedCaption_2022_train_000098.jpg   \n",
              "97  ImageCLEFmedCaption_2022_train_000099.jpg   \n",
              "98  ImageCLEFmedCaption_2022_train_000100.jpg   \n",
              "\n",
              "                                              caption  \n",
              "0   pericardial tamponade with clear distinction o...  \n",
              "1   angiography of the aortic arch show delay visu...  \n",
              "2   balloonocclude retrograde transvenous oblitera...  \n",
              "3   film after glue embolization show no filling i...  \n",
              "4   peripheral in posteroanterior projection angio...  \n",
              "..                                                ...  \n",
              "94  selective catheterization with subsequent angi...  \n",
              "95  a still from the cag show  occlusion of the pr...  \n",
              "96  selective leave renal artery angiography after...  \n",
              "97  coronary angiogram show lmca lad and lcx with ...  \n",
              "98  typical postoperative angiogram in thbe case a...  \n",
              "\n",
              "[99 rows x 2 columns]"
            ],
            "text/html": [
              "\n",
              "  <div id=\"df-245cebad-2416-4961-9e1a-67e059a2946d\">\n",
              "    <div class=\"colab-df-container\">\n",
              "      <div>\n",
              "<style scoped>\n",
              "    .dataframe tbody tr th:only-of-type {\n",
              "        vertical-align: middle;\n",
              "    }\n",
              "\n",
              "    .dataframe tbody tr th {\n",
              "        vertical-align: top;\n",
              "    }\n",
              "\n",
              "    .dataframe thead th {\n",
              "        text-align: right;\n",
              "    }\n",
              "</style>\n",
              "<table border=\"1\" class=\"dataframe\">\n",
              "  <thead>\n",
              "    <tr style=\"text-align: right;\">\n",
              "      <th></th>\n",
              "      <th>image</th>\n",
              "      <th>caption</th>\n",
              "    </tr>\n",
              "  </thead>\n",
              "  <tbody>\n",
              "    <tr>\n",
              "      <th>0</th>\n",
              "      <td>ImageCLEFmedCaption_2022_train_000001.jpg</td>\n",
              "      <td>pericardial tamponade with clear distinction o...</td>\n",
              "    </tr>\n",
              "    <tr>\n",
              "      <th>1</th>\n",
              "      <td>ImageCLEFmedCaption_2022_train_000002.jpg</td>\n",
              "      <td>angiography of the aortic arch show delay visu...</td>\n",
              "    </tr>\n",
              "    <tr>\n",
              "      <th>2</th>\n",
              "      <td>ImageCLEFmedCaption_2022_train_000003.jpg</td>\n",
              "      <td>balloonocclude retrograde transvenous oblitera...</td>\n",
              "    </tr>\n",
              "    <tr>\n",
              "      <th>3</th>\n",
              "      <td>ImageCLEFmedCaption_2022_train_000004.jpg</td>\n",
              "      <td>film after glue embolization show no filling i...</td>\n",
              "    </tr>\n",
              "    <tr>\n",
              "      <th>4</th>\n",
              "      <td>ImageCLEFmedCaption_2022_train_000005.jpg</td>\n",
              "      <td>peripheral in posteroanterior projection angio...</td>\n",
              "    </tr>\n",
              "    <tr>\n",
              "      <th>...</th>\n",
              "      <td>...</td>\n",
              "      <td>...</td>\n",
              "    </tr>\n",
              "    <tr>\n",
              "      <th>94</th>\n",
              "      <td>ImageCLEFmedCaption_2022_train_000096.jpg</td>\n",
              "      <td>selective catheterization with subsequent angi...</td>\n",
              "    </tr>\n",
              "    <tr>\n",
              "      <th>95</th>\n",
              "      <td>ImageCLEFmedCaption_2022_train_000097.jpg</td>\n",
              "      <td>a still from the cag show  occlusion of the pr...</td>\n",
              "    </tr>\n",
              "    <tr>\n",
              "      <th>96</th>\n",
              "      <td>ImageCLEFmedCaption_2022_train_000098.jpg</td>\n",
              "      <td>selective leave renal artery angiography after...</td>\n",
              "    </tr>\n",
              "    <tr>\n",
              "      <th>97</th>\n",
              "      <td>ImageCLEFmedCaption_2022_train_000099.jpg</td>\n",
              "      <td>coronary angiogram show lmca lad and lcx with ...</td>\n",
              "    </tr>\n",
              "    <tr>\n",
              "      <th>98</th>\n",
              "      <td>ImageCLEFmedCaption_2022_train_000100.jpg</td>\n",
              "      <td>typical postoperative angiogram in thbe case a...</td>\n",
              "    </tr>\n",
              "  </tbody>\n",
              "</table>\n",
              "<p>99 rows × 2 columns</p>\n",
              "</div>\n",
              "      <button class=\"colab-df-convert\" onclick=\"convertToInteractive('df-245cebad-2416-4961-9e1a-67e059a2946d')\"\n",
              "              title=\"Convert this dataframe to an interactive table.\"\n",
              "              style=\"display:none;\">\n",
              "        \n",
              "  <svg xmlns=\"http://www.w3.org/2000/svg\" height=\"24px\"viewBox=\"0 0 24 24\"\n",
              "       width=\"24px\">\n",
              "    <path d=\"M0 0h24v24H0V0z\" fill=\"none\"/>\n",
              "    <path d=\"M18.56 5.44l.94 2.06.94-2.06 2.06-.94-2.06-.94-.94-2.06-.94 2.06-2.06.94zm-11 1L8.5 8.5l.94-2.06 2.06-.94-2.06-.94L8.5 2.5l-.94 2.06-2.06.94zm10 10l.94 2.06.94-2.06 2.06-.94-2.06-.94-.94-2.06-.94 2.06-2.06.94z\"/><path d=\"M17.41 7.96l-1.37-1.37c-.4-.4-.92-.59-1.43-.59-.52 0-1.04.2-1.43.59L10.3 9.45l-7.72 7.72c-.78.78-.78 2.05 0 2.83L4 21.41c.39.39.9.59 1.41.59.51 0 1.02-.2 1.41-.59l7.78-7.78 2.81-2.81c.8-.78.8-2.07 0-2.86zM5.41 20L4 18.59l7.72-7.72 1.47 1.35L5.41 20z\"/>\n",
              "  </svg>\n",
              "      </button>\n",
              "      \n",
              "  <style>\n",
              "    .colab-df-container {\n",
              "      display:flex;\n",
              "      flex-wrap:wrap;\n",
              "      gap: 12px;\n",
              "    }\n",
              "\n",
              "    .colab-df-convert {\n",
              "      background-color: #E8F0FE;\n",
              "      border: none;\n",
              "      border-radius: 50%;\n",
              "      cursor: pointer;\n",
              "      display: none;\n",
              "      fill: #1967D2;\n",
              "      height: 32px;\n",
              "      padding: 0 0 0 0;\n",
              "      width: 32px;\n",
              "    }\n",
              "\n",
              "    .colab-df-convert:hover {\n",
              "      background-color: #E2EBFA;\n",
              "      box-shadow: 0px 1px 2px rgba(60, 64, 67, 0.3), 0px 1px 3px 1px rgba(60, 64, 67, 0.15);\n",
              "      fill: #174EA6;\n",
              "    }\n",
              "\n",
              "    [theme=dark] .colab-df-convert {\n",
              "      background-color: #3B4455;\n",
              "      fill: #D2E3FC;\n",
              "    }\n",
              "\n",
              "    [theme=dark] .colab-df-convert:hover {\n",
              "      background-color: #434B5C;\n",
              "      box-shadow: 0px 1px 3px 1px rgba(0, 0, 0, 0.15);\n",
              "      filter: drop-shadow(0px 1px 2px rgba(0, 0, 0, 0.3));\n",
              "      fill: #FFFFFF;\n",
              "    }\n",
              "  </style>\n",
              "\n",
              "      <script>\n",
              "        const buttonEl =\n",
              "          document.querySelector('#df-245cebad-2416-4961-9e1a-67e059a2946d button.colab-df-convert');\n",
              "        buttonEl.style.display =\n",
              "          google.colab.kernel.accessAllowed ? 'block' : 'none';\n",
              "\n",
              "        async function convertToInteractive(key) {\n",
              "          const element = document.querySelector('#df-245cebad-2416-4961-9e1a-67e059a2946d');\n",
              "          const dataTable =\n",
              "            await google.colab.kernel.invokeFunction('convertToInteractive',\n",
              "                                                     [key], {});\n",
              "          if (!dataTable) return;\n",
              "\n",
              "          const docLinkHtml = 'Like what you see? Visit the ' +\n",
              "            '<a target=\"_blank\" href=https://colab.research.google.com/notebooks/data_table.ipynb>data table notebook</a>'\n",
              "            + ' to learn more about interactive tables.';\n",
              "          element.innerHTML = '';\n",
              "          dataTable['output_type'] = 'display_data';\n",
              "          await google.colab.output.renderOutput(dataTable, element);\n",
              "          const docLink = document.createElement('div');\n",
              "          docLink.innerHTML = docLinkHtml;\n",
              "          element.appendChild(docLink);\n",
              "        }\n",
              "      </script>\n",
              "    </div>\n",
              "  </div>\n",
              "  "
            ]
          },
          "metadata": {},
          "execution_count": 7
        }
      ],
      "source": [
        "#Reading the CSV file attached with our images from drive\n",
        "captions = pd.read_csv(\"/content/drive/MyDrive/data/annotations/captions.csv\")\n",
        "captions"
      ]
    },
    {
      "cell_type": "code",
      "execution_count": null,
      "metadata": {
        "id": "L79MfScxxKr3"
      },
      "outputs": [],
      "source": [
        "from collections import Counter"
      ]
    },
    {
      "cell_type": "code",
      "execution_count": null,
      "metadata": {
        "id": "PnVxPC1FV1jU",
        "colab": {
          "base_uri": "https://localhost:8080/"
        },
        "outputId": "c21ffb6a-5d71-403f-c193-49a35e2b2601"
      },
      "outputs": [
        {
          "output_type": "stream",
          "name": "stdout",
          "text": [
            "71\n",
            "70\n"
          ]
        }
      ],
      "source": [
        "#Read CSV file\n",
        "#Read CSV file\n",
        "df = pd.read_csv(\"/content/drive/MyDrive/data/annotations/captions.csv\")\n",
        "text = max(captions['caption'], key = len)\n",
        "#res= max(len(ele) for ele in captions['caption'])\n",
        "word_list = text.split()\n",
        "max_number_of_words = len(word_list)\n",
        "#print(text)\n",
        "print(max_number_of_words)\n",
        "#print(res)\n",
        "MAX_CAPTION_LEN =max_number_of_words-1# Maximum caption length\n",
        "print(MAX_CAPTION_LEN)\n",
        "#MAX_CAPTION_LEN =MAX_CAPTION_LEN - 1\n",
        "POOLING_FACTOR = 32 # Pooling factor"
      ]
    },
    {
      "cell_type": "code",
      "execution_count": null,
      "metadata": {
        "id": "iz_r1u1pN1Ne"
      },
      "outputs": [],
      "source": [
        ""
      ]
    },
    {
      "cell_type": "code",
      "execution_count": null,
      "metadata": {
        "id": "nkPoyGpqN1kg",
        "colab": {
          "base_uri": "https://localhost:8080/",
          "height": 70
        },
        "outputId": "26c7b7a8-620a-4b92-8ab0-27669083bc48"
      },
      "outputs": [
        {
          "output_type": "execute_result",
          "data": {
            "text/plain": [
              "'\\n#Defining function for caption preprocessing\\ndef transform_captions(captions):\\n    print(captions)\\n    transformed = [vocab[word.lower()] for word in word_tokenize(captions)]\\n    padded = [transform + [vocab[\".\"]]*(MAX_CAPTION_LEN - len(transform) + 2) for transform in transformed]\\n    print(padded)\\n    #print(padded)\\n    return padded\\n\\ndef get_caption(caption_sequence):\\n    \\n    return \" \".join([id_to_word[id_] for id_ in caption_sequence if id_ != vocab[\".\"]])\\n'"
            ],
            "application/vnd.google.colaboratory.intrinsic+json": {
              "type": "string"
            }
          },
          "metadata": {},
          "execution_count": 53
        }
      ],
      "source": [
        "\"\"\"\n",
        "#Defining function for caption preprocessing\n",
        "def transform_captions(captions):\n",
        "    print(captions)\n",
        "    transformed = [vocab[word.lower()] for word in word_tokenize(captions)]\n",
        "    padded = [transform + [vocab[\".\"]]*(MAX_CAPTION_LEN - len(transform) + 2) for transform in transformed]\n",
        "    print(padded)\n",
        "    #print(padded)\n",
        "    return padded\n",
        "\n",
        "def get_caption(caption_sequence):\n",
        "    \n",
        "    return \" \".join([id_to_word[id_] for id_ in caption_sequence if id_ != vocab[\".\"]])\n",
        "\"\"\""
      ]
    },
    {
      "cell_type": "code",
      "execution_count": null,
      "metadata": {
        "id": "1h5kv6CAZ2Ui"
      },
      "outputs": [],
      "source": [
        "#Defining function for caption preprocessing\n",
        "def transform_captions(captions):\n",
        "    \n",
        "    transformed = [[vocab[word.lower()] for word in word_tokenize(caption)] for caption in captions]\n",
        "    print(len(transformed))\n",
        "    padded = [transform + [vocab[\".\"]]*(MAX_CAPTION_LEN - len(transform)) for transform in transformed]\n",
        "    print(len(padded))\n",
        "    #print(padded)\n",
        "    return padded\n",
        "\n",
        "def get_caption(caption_sequence):\n",
        "    \n",
        "    return \" \".join([id_to_word[id_] for id_ in caption_sequence if id_ != vocab[\".\"]])"
      ]
    },
    {
      "cell_type": "code",
      "execution_count": null,
      "metadata": {
        "id": "Ryg7txD5TaH4"
      },
      "outputs": [],
      "source": [
        "#Data preprocessing\n",
        "#Defining function for reading the dataset\n",
        "class My_Flickr1k(Dataset):\n",
        "    def __init__(self, root_file, captions, transform=None):\n",
        "    \n",
        "        self.transform = transform\n",
        "        self.root = root_file\n",
        "        self.ids = captions\n",
        "        \n",
        "    def __getitem__(self, idx):\n",
        "        \n",
        "        image_path, caps = self.ids[idx]\n",
        "        caplens = len(caps)\n",
        "        imgs = Image.open(self.root+image_path)\n",
        "        if self.transform: \n",
        "            imgs = self.transform(imgs)\n",
        "        #print(\"image\",image)\n",
        "        #print(\"caption\",caption)\n",
        "        return imgs, caps, caplens\n",
        "    \n",
        "    def __len__(self):\n",
        "        return self.ids.shape[0]"
      ]
    },
    {
      "cell_type": "code",
      "execution_count": null,
      "metadata": {
        "id": "WENoAJ28VgY2"
      },
      "outputs": [],
      "source": [
        "#Building dataset vocabulary\n",
        "def build_datasets_vocab(root_file, captions_file, transform, split=0.15):\n",
        "    df = pd.read_csv(captions_file)\n",
        "    \n",
        "    vocab = {}\n",
        "    def create_vocab(caption):\n",
        "        tokens = [token.lower() for token in word_tokenize(caption)]\n",
        "        for token in tokens: \n",
        "            if token not in vocab: \n",
        "                vocab[token] = len(vocab)\n",
        "            \n",
        "    df[\"caption\"].apply(create_vocab)\n",
        "    \n",
        "    train, valid = train_test_split(df, test_size=split, random_state=42)\n",
        "    return My_Flickr1k(root_file, train.values, transform), \\\n",
        "           My_Flickr1k(root_file, valid.values, transform), \\\n",
        "           vocab\n"
      ]
    },
    {
      "cell_type": "code",
      "execution_count": null,
      "metadata": {
        "id": "J_GhAG56VwF-",
        "colab": {
          "base_uri": "https://localhost:8080/"
        },
        "outputId": "e911a2b4-1471-4cb6-feca-7d732f10b6da"
      },
      "outputs": [
        {
          "output_type": "stream",
          "name": "stderr",
          "text": [
            "[nltk_data] Downloading package punkt to /root/nltk_data...\n",
            "[nltk_data]   Package punkt is already up-to-date!\n"
          ]
        },
        {
          "output_type": "execute_result",
          "data": {
            "text/plain": [
              "True"
            ]
          },
          "metadata": {},
          "execution_count": 58
        }
      ],
      "source": [
        "#To divide the sentence into a list of word download punkt package\n",
        "import nltk\n",
        "nltk.download('punkt')"
      ]
    },
    {
      "cell_type": "code",
      "execution_count": null,
      "metadata": {
        "id": "-eNsRlblVz9X"
      },
      "outputs": [],
      "source": [
        "#Compute training set,validation set and vocabulaory list\n",
        "transform = transforms.Compose([\n",
        "    transforms.Resize((128, 128)),\n",
        "    transforms.ToTensor()\n",
        "])\n",
        "train_dataset, valid_dataset, vocab = build_datasets_vocab(\"/content/drive/MyDrive/data/Training_Images/\", \"/content/drive/MyDrive/data/annotations/captions.csv\",transform)\n",
        "\n",
        "id_to_word = {id_: word for word, id_ in vocab.items()}\n",
        "#print(id_to_word[10])\n",
        "#print(\"vocab\",vocab.items())\n",
        "#print(vocab.items()\n",
        "#print(vocab.values())\n",
        "#print(vocab)\n",
        "#x='balloonocclude retrograde transvenous obliteration be attempt use a coaxial'\n",
        "#print(vocab['.'])"
      ]
    },
    {
      "cell_type": "code",
      "execution_count": null,
      "metadata": {
        "id": "mos_QNzb2NKq"
      },
      "outputs": [],
      "source": [
        "#print(vocab('pericardial'))"
      ]
    },
    {
      "cell_type": "code",
      "execution_count": null,
      "metadata": {
        "id": "atsJxP3B_7c7",
        "colab": {
          "base_uri": "https://localhost:8080/"
        },
        "outputId": "acf93d25-e926-4181-dd0c-3f3abf8a9a8b"
      },
      "outputs": [
        {
          "output_type": "execute_result",
          "data": {
            "text/plain": [
              "<__main__.My_Flickr1k at 0x7f8eb6cad210>"
            ]
          },
          "metadata": {},
          "execution_count": 61
        }
      ],
      "source": [
        "train_dataset"
      ]
    },
    {
      "cell_type": "code",
      "execution_count": null,
      "metadata": {
        "id": "5XIeqbpJhDqM"
      },
      "outputs": [],
      "source": [
        "from torch.nn.utils.rnn import pack_padded_sequence\n",
        "from pytorch_pretrained_bert import BertTokenizer, BertModel\n",
        "import pickle\n",
        "import torchvision.models as models"
      ]
    },
    {
      "cell_type": "code",
      "execution_count": null,
      "metadata": {
        "id": "u6GnpSSIvPn2"
      },
      "outputs": [],
      "source": [
        "PAD = 0\n",
        "START = 1\n",
        "END = 2\n",
        "UNK = 3"
      ]
    },
    {
      "cell_type": "code",
      "execution_count": null,
      "metadata": {
        "id": "AT6W7KPGgJRo"
      },
      "outputs": [],
      "source": [
        "EPOCHS = 100\n",
        "BATCH_SIZE = 32\n",
        "grad_clip = 5.\n",
        "num_epochs = 4\n",
        "batch_size = 32 \n",
        "decoder_lr = 0.0004\n",
        "#train_dataset = TensorDataset(inps, tgts)\n",
        "train_dataloader = DataLoader(train_dataset, batch_size=BATCH_SIZE, shuffle=True)\n",
        "valid_dataloader = DataLoader(valid_dataset, batch_size=BATCH_SIZE, shuffle=True)\n"
      ]
    },
    {
      "cell_type": "code",
      "execution_count": null,
      "metadata": {
        "id": "jd46woOUhwRg",
        "colab": {
          "base_uri": "https://localhost:8080/",
          "height": 36
        },
        "outputId": "8383e179-d568-4361-9895-61cdb5494736"
      },
      "outputs": [
        {
          "output_type": "execute_result",
          "data": {
            "text/plain": [
              "\"\\n# Load GloVe\\nglove_vectors = pickle.load(open('glove.6B/glove_words.pkl', 'rb'))\\nglove_vectors = torch.tensor(glove_vectors)\\n\""
            ],
            "application/vnd.google.colaboratory.intrinsic+json": {
              "type": "string"
            }
          },
          "metadata": {},
          "execution_count": 69
        }
      ],
      "source": [
        "class loss_obj(object):\n",
        "    def __init__(self):\n",
        "        self.avg = 0.\n",
        "        self.sum = 0.\n",
        "        self.count = 0.\n",
        "\n",
        "    def update(self, val, n=1):\n",
        "        self.sum += val * n\n",
        "        self.count += n\n",
        "        self.avg = self.sum / self.count\n",
        "\n",
        "# Device configuration\n",
        "device = torch.device('cuda' if torch.cuda.is_available() else 'cpu')\n",
        "\n",
        "# Load pre-trained model tokenizer (vocabulary)\n",
        "tokenizer = BertTokenizer.from_pretrained('bert-base-uncased')\n",
        "\n",
        "# Load pre-trained model (weights)\n",
        "BertModel = BertModel.from_pretrained('bert-base-uncased').to(device)\n",
        "BertModel.eval()\n",
        "\"\"\"\n",
        "# Load GloVe\n",
        "glove_vectors = pickle.load(open('glove.6B/glove_words.pkl', 'rb'))\n",
        "glove_vectors = torch.tensor(glove_vectors)\n",
        "\"\"\""
      ]
    },
    {
      "cell_type": "code",
      "execution_count": null,
      "metadata": {
        "id": "oA8z4SYZhZAM"
      },
      "outputs": [],
      "source": [
        "class Encoder(nn.Module):\n",
        "    def __init__(self):\n",
        "        super(Encoder, self).__init__()\n",
        "        resnet = models.resnet101(pretrained=True)\n",
        "        self.resnet = nn.Sequential(*list(resnet.children())[:-2])\n",
        "        self.adaptive_pool = nn.AdaptiveAvgPool2d((14, 14))\n",
        "\n",
        "    def forward(self, images):\n",
        "        out = self.adaptive_pool(self.resnet(images))\n",
        "        # batch_size, img size, imgs size, 2048\n",
        "        out = out.permute(0, 2, 3, 1)\n",
        "        return out\n"
      ]
    },
    {
      "cell_type": "code",
      "execution_count": null,
      "metadata": {
        "id": "2n-94n3ZYmyb"
      },
      "outputs": [],
      "source": [
        "bert_model=True\n",
        "glove_model=False\n",
        "from_checkpoint = False"
      ]
    },
    {
      "cell_type": "markdown",
      "metadata": {
        "id": "KbBNHRYraQDG"
      },
      "source": [
        ""
      ]
    },
    {
      "cell_type": "code",
      "execution_count": null,
      "metadata": {
        "id": "mACDm96HgJZ8"
      },
      "outputs": [],
      "source": [
        "class Decoder(nn.Module):\n",
        "\n",
        "    def __init__(self, vocab_size, use_glove, use_bert):\n",
        "        super(Decoder, self).__init__()\n",
        "        self.encoder_dim = 2048\n",
        "        self.attention_dim = 512\n",
        "        self.use_bert = use_bert\n",
        "\n",
        "        if use_glove:\n",
        "            self.embed_dim = 300\n",
        "        elif use_bert:\n",
        "            self.embed_dim = 768\n",
        "        else:\n",
        "            self.embed_dim = 512\n",
        "\n",
        "        self.decoder_dim = 512\n",
        "        self.vocab_size = vocab_size\n",
        "        self.dropout = 0.5\n",
        "        \n",
        "        # soft attention\n",
        "        self.enc_att = nn.Linear(2048, 512)\n",
        "        self.dec_att = nn.Linear(512, 512)\n",
        "        self.att = nn.Linear(512, 1)\n",
        "        self.relu = nn.ReLU()\n",
        "        self.softmax = nn.Softmax(dim=1)\n",
        "\n",
        "        # decoder layers\n",
        "        self.dropout = nn.Dropout(p=self.dropout)\n",
        "        self.decode_step = nn.LSTMCell(self.embed_dim + self.encoder_dim, self.decoder_dim, bias=True)\n",
        "        self.h_lin = nn.Linear(self.encoder_dim, self.decoder_dim)\n",
        "        self.c_lin = nn.Linear(self.encoder_dim, self.decoder_dim)\n",
        "        self.f_beta = nn.Linear(self.decoder_dim, self.encoder_dim)\n",
        "        self.sigmoid = nn.Sigmoid()\n",
        "        self.fc = nn.Linear(self.decoder_dim, self.vocab_size)\n",
        "\n",
        "        # init variables\n",
        "        self.fc.bias.data.fill_(0)\n",
        "        self.fc.weight.data.uniform_(-0.1, 0.1)\n",
        "        \n",
        "        if not use_bert:\n",
        "            self.embedding = nn.Embedding(vocab_size, self.embed_dim)\n",
        "            self.embedding.weight.data.uniform_(-0.1, 0.1)\n",
        "\n",
        "            # load Glove embeddings\n",
        "            if use_glove:\n",
        "                self.embedding.weight = nn.Parameter(glove_vectors)\n",
        "\n",
        "            # always fine-tune embeddings (even with GloVe)\n",
        "            for p in self.embedding.parameters():\n",
        "                p.requires_grad = True\n",
        "\n",
        "    def forward(self, encoder_out, encoded_captions, caption_lengths):    \n",
        "        batch_size = encoder_out.size(0)\n",
        "        encoder_dim = encoder_out.size(-1)\n",
        "        vocab_size = self.vocab_size\n",
        "        dec_len = [x-1 for x in caption_lengths]\n",
        "        max_dec_len = max(dec_len)\n",
        "\n",
        "        encoder_out = encoder_out.view(batch_size, -1, encoder_dim)\n",
        "        num_pixels = encoder_out.size(1)\n",
        "\n",
        "        # load bert or regular embeddings\n",
        "        if not self.use_bert:\n",
        "            embeddings = self.embedding(encoded_captions)\n",
        "        elif self.use_bert:\n",
        "            embeddings = []\n",
        "            for cap_idx in  encoded_captions:\n",
        "                \n",
        "                # padd caption to correct size\n",
        "                # while len(cap_idx) < max_dec_len:\n",
        "                #    cap_idx.append(PAD)\n",
        "                #print(cap_idx)   \n",
        "                #cap = ' '.join([vocab.id_to_word[word_idx.item()] for word_idx in cap_idx])\n",
        "                cap = ' '.join([id_to_word[word_idx.item()] for word_idx in cap_idx])\n",
        "                cap = u'[CLS] '+cap\n",
        "                \n",
        "                tokenized_cap = tokenizer.tokenize(cap)                \n",
        "                indexed_tokens = tokenizer.convert_tokens_to_ids(tokenized_cap)\n",
        "                tokens_tensor = torch.tensor([indexed_tokens]).to(device)\n",
        "\n",
        "                with torch.no_grad():\n",
        "                    encoded_layers, _ = BertModel(tokens_tensor)\n",
        "\n",
        "                bert_embedding = encoded_layers[11].squeeze(0)\n",
        "                \n",
        "                split_cap = cap.split()\n",
        "                tokens_embedding = []\n",
        "                j = 0\n",
        "\n",
        "                for full_token in split_cap:\n",
        "                    curr_token = ''\n",
        "                    x = 0\n",
        "                    for i,_ in enumerate(tokenized_cap[1:]): # disregard CLS\n",
        "                        token = tokenized_cap[i+j]\n",
        "                        piece_embedding = bert_embedding[i+j]\n",
        "                        \n",
        "                        # full token\n",
        "                        if token == full_token and curr_token == '' :\n",
        "                            tokens_embedding.append(piece_embedding)\n",
        "                            j += 1\n",
        "                            break\n",
        "                        else: # partial token\n",
        "                            x += 1\n",
        "                            \n",
        "                            if curr_token == '':\n",
        "                                tokens_embedding.append(piece_embedding)\n",
        "                                curr_token += token.replace('#', '')\n",
        "                            else:\n",
        "                                tokens_embedding[-1] = torch.add(tokens_embedding[-1], piece_embedding)\n",
        "                                curr_token += token.replace('#', '')\n",
        "                                \n",
        "                                if curr_token == full_token: # end of partial\n",
        "                                    j += x\n",
        "                                    break                            \n",
        "\n",
        "                cap_embedding = torch.stack(tokens_embedding)\n",
        "                embeddings.append(cap_embedding)\n",
        "  \n",
        "            embeddings = torch.stack(embeddings)\n",
        "            #print('embedding',embeddings)\n",
        "        # init hidden state\n",
        "        avg_enc_out = encoder_out.mean(dim=1)\n",
        "        h = self.h_lin(avg_enc_out)\n",
        "        c = self.c_lin(avg_enc_out)\n",
        "\n",
        "        predictions = torch.zeros(batch_size, max_dec_len, vocab_size).to(device)\n",
        "        alphas = torch.zeros(batch_size, max_dec_len, num_pixels).to(device)\n",
        "        print(\"Embeddings shape = \",embeddings.size())\n",
        "        for t in range(max(dec_len)):\n",
        "            print(\"dl\",max(dec_len))\n",
        "            batch_size_t = sum([l > t for l in dec_len ])\n",
        "            #print(\"dec_len\", dec_len)\n",
        "            # soft-attention\n",
        "            enc_att = self.enc_att(encoder_out[:batch_size_t])\n",
        "            dec_att = self.dec_att(h[:batch_size_t])\n",
        "            att = self.att(self.relu(enc_att + dec_att.unsqueeze(1))).squeeze(2)\n",
        "            alpha = self.softmax(att)\n",
        "            attention_weighted_encoding = (encoder_out[:batch_size_t] * alpha.unsqueeze(2)).sum(dim=1)\n",
        "        \n",
        "            gate = self.sigmoid(self.f_beta(h[:batch_size_t]))\n",
        "            attention_weighted_encoding = gate * attention_weighted_encoding\n",
        "            print(\"batch_size_t = \",batch_size_t)\n",
        "            print(\"t = \",t)\n",
        "            batch_embeds = embeddings[:batch_size_t, t, :]            \n",
        "            cat_val = torch.cat([batch_embeds.double(), attention_weighted_encoding.double()], dim=1)\n",
        "            \n",
        "            h, c = self.decode_step(cat_val.float(),(h[:batch_size_t].float(), c[:batch_size_t].float()))\n",
        "            preds = self.fc(self.dropout(h))\n",
        "            predictions[:batch_size_t, t, :] = preds\n",
        "            #print('prediction:', predictions)\n",
        "            alphas[:batch_size_t, t, :] = alpha\n",
        "            #print(\"yes\")\n",
        "        # preds, sorted capts, dec lens, attention wieghts\n",
        "        return predictions, encoded_captions, dec_len, alphas"
      ]
    },
    {
      "cell_type": "code",
      "execution_count": null,
      "metadata": {
        "id": "0mVnL1gDgJg-"
      },
      "outputs": [],
      "source": [
        "train_model = True\n",
        "valid_model = False"
      ]
    },
    {
      "cell_type": "code",
      "execution_count": null,
      "metadata": {
        "id": "wEwkJwP5Zj8f",
        "colab": {
          "base_uri": "https://localhost:8080/"
        },
        "outputId": "f68d45c8-c48a-43b2-a8e6-82b02e8df3b0"
      },
      "outputs": [
        {
          "output_type": "stream",
          "name": "stderr",
          "text": [
            "/usr/local/lib/python3.7/dist-packages/torchvision/models/_utils.py:209: UserWarning: The parameter 'pretrained' is deprecated since 0.13 and will be removed in 0.15, please use 'weights' instead.\n",
            "  f\"The parameter '{pretrained_param}' is deprecated since 0.13 and will be removed in 0.15, \"\n",
            "/usr/local/lib/python3.7/dist-packages/torchvision/models/_utils.py:223: UserWarning: Arguments other than a weight enum or `None` for 'weights' are deprecated since 0.13 and will be removed in 0.15. The current behavior is equivalent to passing `weights=ResNet101_Weights.IMAGENET1K_V1`. You can also use `weights=ResNet101_Weights.DEFAULT` to get the most up-to-date weights.\n",
            "  warnings.warn(msg)\n"
          ]
        }
      ],
      "source": [
        "criterion = nn.CrossEntropyLoss().to(device)\n",
        "\n",
        "if from_checkpoint:\n",
        "\n",
        "    encoder = Encoder().to(device)\n",
        "    decoder = Decoder(vocab_size=len(vocab),use_glove=glove_model, use_bert=bert_model).to(device)\n",
        "\n",
        "    if torch.cuda.is_available():\n",
        "        if bert_model:\n",
        "            print('Pre-Trained BERT Model')\n",
        "            encoder_checkpoint = torch.load('./checkpoints/encoder_bert')\n",
        "            decoder_checkpoint = torch.load('./checkpoints/decoder_bert')\n",
        "        elif glove_model:\n",
        "            print('Pre-Trained GloVe Model')\n",
        "            encoder_checkpoint = torch.load('./checkpoints/encoder_glove')\n",
        "            decoder_checkpoint = torch.load('./checkpoints/decoder_glove')\n",
        "        else:\n",
        "            print('Pre-Trained Baseline Model')\n",
        "            encoder_checkpoint = torch.load('./checkpoints/encoder_baseline')\n",
        "            decoder_checkpoint = torch.load('./checkpoints/decoder_baseline')\n",
        "    else:\n",
        "        if bert_model:\n",
        "            print('Pre-Trained BERT Model')\n",
        "            encoder_checkpoint = torch.load('./checkpoints/encoder_bert', map_location='cpu')\n",
        "            decoder_checkpoint = torch.load('./checkpoints/decoder_bert', map_location='cpu')\n",
        "        elif glove_model:\n",
        "            print('Pre-Trained GloVe Model')\n",
        "            encoder_checkpoint = torch.load('./checkpoints/encoder_glove', map_location='cpu')\n",
        "            decoder_checkpoint = torch.load('./checkpoints/decoder_glove', map_location='cpu')\n",
        "        else:\n",
        "            print('Pre-Trained Baseline Model')\n",
        "            encoder_checkpoint = torch.load('./checkpoints/encoder_baseline', map_location='cpu')\n",
        "            decoder_checkpoint = torch.load('./checkpoints/decoder_baseline', map_location='cpu')\n",
        "\n",
        "    encoder.load_state_dict(encoder_checkpoint['model_state_dict'])\n",
        "    decoder_optimizer = torch.optim.Adam(params=decoder.parameters(),lr=decoder_lr)\n",
        "    decoder.load_state_dict(decoder_checkpoint['model_state_dict'])\n",
        "    decoder_optimizer.load_state_dict(decoder_checkpoint['optimizer_state_dict'])\n",
        "else:\n",
        "    encoder = Encoder().to(device)\n",
        "    decoder = Decoder(vocab_size=len(vocab),use_glove=glove_model, use_bert=bert_model).to(device)\n",
        "    decoder_optimizer = torch.optim.Adam(params=decoder.parameters(),lr=decoder_lr)"
      ]
    },
    {
      "cell_type": "code",
      "execution_count": null,
      "metadata": {
        "id": "dHq5f_c8gJnu"
      },
      "outputs": [],
      "source": [
        "\"\"\"\n",
        "for epoch in tqdm(range(EPOCHS)):\n",
        "    t = tqdm(train_dataloader, desc=f\"Train: Epoch {epoch}\")\n",
        "    \n",
        "    for images, captions, caplen in t:\n",
        "        images = images.to(device)\n",
        "\"\"\"\n",
        "def train():\n",
        "    print(\"Started training...\")\n",
        "    for epoch in tqdm(range(num_epochs)):\n",
        "        decoder.train()\n",
        "        encoder.train()\n",
        "\n",
        "        losses = loss_obj()\n",
        "        num_batches = len(train_dataloader)\n",
        "\n",
        "        for i, (imgs, caps, caplens) in enumerate(tqdm(train_dataloader)):\n",
        "        #for i, (imgs, caps, caplens) in tqdm(train_dataloader):\n",
        "            imgs = encoder(imgs.to(device))\n",
        "            caps = torch.LongTensor(transform_captions(caps)).to(device)\n",
        "\n",
        "            scores, caps_sorted, decode_lengths, alphas = decoder(imgs, caps, caplens)\n",
        "            scores = pack_padded_sequence(scores, decode_lengths, batch_first=True)[0]\n",
        "\n",
        "            targets = caps_sorted[:, 1:]\n",
        "            targets = pack_padded_sequence(targets, decode_lengths, batch_first=True)[0]\n",
        "\n",
        "            loss = criterion(scores, targets).to(device)\n",
        "\n",
        "            loss += ((1. - alphas.sum(dim=1)) ** 2).mean()\n",
        "\n",
        "            decoder_optimizer.zero_grad()\n",
        "            loss.backward()\n",
        "\n",
        "            # grad_clip decoder\n",
        "            for group in decoder_optimizer.param_groups:\n",
        "                for param in group['params']:\n",
        "                    if param.grad is not None:\n",
        "                        param.grad.data.clamp_(-grad_clip, grad_clip)\n",
        "\n",
        "            decoder_optimizer.step()\n",
        "\n",
        "            losses.update(loss.item(), sum(decode_lengths))\n",
        "\n",
        "            # save model each 100 batches\n",
        "            if i%5000==0 and i!=0:\n",
        "                print('epoch '+str(epoch+1)+'/4 ,Batch '+str(i)+'/'+str(num_batches)+' loss:'+str(losses.avg))\n",
        "                \n",
        "                 # adjust learning rate (create condition for this)\n",
        "                for param_group in decoder_optimizer.param_groups:\n",
        "                    param_group['lr'] = param_group['lr'] * 0.8\n",
        "\n",
        "                print('saving model...')\n",
        "\n",
        "                torch.save({\n",
        "                    'epoch': epoch,\n",
        "                    'model_state_dict': decoder.state_dict(),\n",
        "                    'optimizer_state_dict': decoder_optimizer.state_dict(),\n",
        "                    'loss': loss,\n",
        "                    }, './checkpoints/decoder_mid')\n",
        "\n",
        "                torch.save({\n",
        "                    'epoch': epoch,\n",
        "                    'model_state_dict': encoder.state_dict(),\n",
        "                    'loss': loss,\n",
        "                    }, './checkpoints/encode_mid')\n",
        "\n",
        "                print('model saved')\n",
        "\n",
        "        torch.save({\n",
        "            'epoch': epoch,\n",
        "            'model_state_dict': decoder.state_dict(),\n",
        "            'optimizer_state_dict': decoder_optimizer.state_dict(),\n",
        "            'loss': loss,\n",
        "            }, './checkpoints/decoder_epoch'+str(epoch+1))\n",
        "\n",
        "        torch.save({\n",
        "            'epoch': epoch,\n",
        "            'model_state_dict': encoder.state_dict(),\n",
        "            'loss': loss,\n",
        "            }, './checkpoints/encoder_epoch'+str(epoch+1))\n",
        "\n",
        "        print('epoch checkpoint saved')\n",
        "\n",
        "    print(\"Completed training...\")  \n",
        "  "
      ]
    },
    {
      "cell_type": "code",
      "execution_count": null,
      "metadata": {
        "id": "Wy2e7s3lgkrf",
        "colab": {
          "base_uri": "https://localhost:8080/",
          "height": 1000,
          "referenced_widgets": [
            "89a3eee92157438da77a561138ef75c3",
            "8dde0f4454e74f599a94620b90e2cc7c",
            "788da77855714bf2ba62e9fe22d46649",
            "a176a2750df24f6ab86d3a5796906dd9",
            "f022df9bc48a4420a07f1878f6af4e5e",
            "4ba66ebf3e7b4d71b30bd1044906e36e",
            "33b1734835794736a47d2aedb65190bd",
            "36101aea758c459484edf359322a198e",
            "5fb011bd6f0b40cd928071d23a9b87c4",
            "1848388a6b9e4bc3b606a8bcb9f85a91",
            "9f8a9d1f9f3a44c0b84795c9dae376d5",
            "a2ea8cef6bdb47f8b1d79049310919d0",
            "aa847ca19dfd4896af10e372b87ae0d6",
            "4f467e2680da49b59b200daaa90aef37",
            "f2026e868f034fe5916f151c9670e71c",
            "2088ccaa2f7d449ca21081d7597a6585",
            "63f90d79b80d4d90a74ce4773e145a34",
            "5fe38535a3f1429c80901ee87186f52d",
            "e739a1963c4a4c1e87e3b41dac28e084",
            "4eb980bb2d1249df89d306fe16d741e0",
            "491baac179ea473e9b677082551a8ddc",
            "cab1bac21c5c4e4d92b375fe918fa50e"
          ]
        },
        "outputId": "aa6cd43a-78ec-46f2-e731-93bd336aa056"
      },
      "outputs": [
        {
          "output_type": "stream",
          "name": "stdout",
          "text": [
            "Started training...\n"
          ]
        },
        {
          "output_type": "display_data",
          "data": {
            "text/plain": [
              "  0%|          | 0/4 [00:00<?, ?it/s]"
            ],
            "application/vnd.jupyter.widget-view+json": {
              "version_major": 2,
              "version_minor": 0,
              "model_id": "89a3eee92157438da77a561138ef75c3"
            }
          },
          "metadata": {}
        },
        {
          "output_type": "display_data",
          "data": {
            "text/plain": [
              "  0%|          | 0/3 [00:00<?, ?it/s]"
            ],
            "application/vnd.jupyter.widget-view+json": {
              "version_major": 2,
              "version_minor": 0,
              "model_id": "a2ea8cef6bdb47f8b1d79049310919d0"
            }
          },
          "metadata": {}
        },
        {
          "output_type": "stream",
          "name": "stdout",
          "text": [
            "32\n",
            "32\n",
            "Embeddings shape =  torch.Size([32, 71, 768])\n",
            "dl tensor(266)\n",
            "batch_size_t =  tensor(32)\n",
            "t =  0\n",
            "dl tensor(266)\n",
            "batch_size_t =  tensor(32)\n",
            "t =  1\n",
            "dl tensor(266)\n",
            "batch_size_t =  tensor(32)\n",
            "t =  2\n",
            "dl tensor(266)\n",
            "batch_size_t =  tensor(32)\n",
            "t =  3\n",
            "dl tensor(266)\n",
            "batch_size_t =  tensor(32)\n",
            "t =  4\n",
            "dl tensor(266)\n",
            "batch_size_t =  tensor(32)\n",
            "t =  5\n",
            "dl tensor(266)\n",
            "batch_size_t =  tensor(32)\n",
            "t =  6\n",
            "dl tensor(266)\n",
            "batch_size_t =  tensor(32)\n",
            "t =  7\n",
            "dl tensor(266)\n",
            "batch_size_t =  tensor(32)\n",
            "t =  8\n",
            "dl tensor(266)\n",
            "batch_size_t =  tensor(32)\n",
            "t =  9\n",
            "dl tensor(266)\n",
            "batch_size_t =  tensor(32)\n",
            "t =  10\n",
            "dl tensor(266)\n",
            "batch_size_t =  tensor(32)\n",
            "t =  11\n",
            "dl tensor(266)\n",
            "batch_size_t =  tensor(32)\n",
            "t =  12\n",
            "dl tensor(266)\n",
            "batch_size_t =  tensor(32)\n",
            "t =  13\n",
            "dl tensor(266)\n",
            "batch_size_t =  tensor(31)\n",
            "t =  14\n",
            "dl tensor(266)\n",
            "batch_size_t =  tensor(31)\n",
            "t =  15\n",
            "dl tensor(266)\n",
            "batch_size_t =  tensor(31)\n",
            "t =  16\n",
            "dl tensor(266)\n",
            "batch_size_t =  tensor(31)\n",
            "t =  17\n",
            "dl tensor(266)\n",
            "batch_size_t =  tensor(30)\n",
            "t =  18\n",
            "dl tensor(266)\n",
            "batch_size_t =  tensor(30)\n",
            "t =  19\n",
            "dl tensor(266)\n",
            "batch_size_t =  tensor(29)\n",
            "t =  20\n",
            "dl tensor(266)\n",
            "batch_size_t =  tensor(29)\n",
            "t =  21\n",
            "dl tensor(266)\n",
            "batch_size_t =  tensor(29)\n",
            "t =  22\n",
            "dl tensor(266)\n",
            "batch_size_t =  tensor(29)\n",
            "t =  23\n",
            "dl tensor(266)\n",
            "batch_size_t =  tensor(29)\n",
            "t =  24\n",
            "dl tensor(266)\n",
            "batch_size_t =  tensor(29)\n",
            "t =  25\n",
            "dl tensor(266)\n",
            "batch_size_t =  tensor(29)\n",
            "t =  26\n",
            "dl tensor(266)\n",
            "batch_size_t =  tensor(29)\n",
            "t =  27\n",
            "dl tensor(266)\n",
            "batch_size_t =  tensor(29)\n",
            "t =  28\n",
            "dl tensor(266)\n",
            "batch_size_t =  tensor(29)\n",
            "t =  29\n",
            "dl tensor(266)\n",
            "batch_size_t =  tensor(29)\n",
            "t =  30\n",
            "dl tensor(266)\n",
            "batch_size_t =  tensor(29)\n",
            "t =  31\n",
            "dl tensor(266)\n",
            "batch_size_t =  tensor(29)\n",
            "t =  32\n",
            "dl tensor(266)\n",
            "batch_size_t =  tensor(29)\n",
            "t =  33\n",
            "dl tensor(266)\n",
            "batch_size_t =  tensor(29)\n",
            "t =  34\n",
            "dl tensor(266)\n",
            "batch_size_t =  tensor(29)\n",
            "t =  35\n",
            "dl tensor(266)\n",
            "batch_size_t =  tensor(29)\n",
            "t =  36\n",
            "dl tensor(266)\n",
            "batch_size_t =  tensor(29)\n",
            "t =  37\n",
            "dl tensor(266)\n",
            "batch_size_t =  tensor(29)\n",
            "t =  38\n",
            "dl tensor(266)\n",
            "batch_size_t =  tensor(29)\n",
            "t =  39\n",
            "dl tensor(266)\n",
            "batch_size_t =  tensor(29)\n",
            "t =  40\n",
            "dl tensor(266)\n",
            "batch_size_t =  tensor(29)\n",
            "t =  41\n",
            "dl tensor(266)\n",
            "batch_size_t =  tensor(28)\n",
            "t =  42\n",
            "dl tensor(266)\n",
            "batch_size_t =  tensor(28)\n",
            "t =  43\n",
            "dl tensor(266)\n",
            "batch_size_t =  tensor(28)\n",
            "t =  44\n",
            "dl tensor(266)\n",
            "batch_size_t =  tensor(28)\n",
            "t =  45\n",
            "dl tensor(266)\n",
            "batch_size_t =  tensor(27)\n",
            "t =  46\n",
            "dl tensor(266)\n",
            "batch_size_t =  tensor(27)\n",
            "t =  47\n",
            "dl tensor(266)\n",
            "batch_size_t =  tensor(26)\n",
            "t =  48\n",
            "dl tensor(266)\n",
            "batch_size_t =  tensor(26)\n",
            "t =  49\n",
            "dl tensor(266)\n",
            "batch_size_t =  tensor(26)\n",
            "t =  50\n",
            "dl tensor(266)\n",
            "batch_size_t =  tensor(26)\n",
            "t =  51\n",
            "dl tensor(266)\n",
            "batch_size_t =  tensor(26)\n",
            "t =  52\n",
            "dl tensor(266)\n",
            "batch_size_t =  tensor(26)\n",
            "t =  53\n",
            "dl tensor(266)\n",
            "batch_size_t =  tensor(26)\n",
            "t =  54\n",
            "dl tensor(266)\n",
            "batch_size_t =  tensor(26)\n",
            "t =  55\n",
            "dl tensor(266)\n",
            "batch_size_t =  tensor(26)\n",
            "t =  56\n",
            "dl tensor(266)\n",
            "batch_size_t =  tensor(26)\n",
            "t =  57\n",
            "dl tensor(266)\n",
            "batch_size_t =  tensor(26)\n",
            "t =  58\n",
            "dl tensor(266)\n",
            "batch_size_t =  tensor(25)\n",
            "t =  59\n",
            "dl tensor(266)\n",
            "batch_size_t =  tensor(25)\n",
            "t =  60\n",
            "dl tensor(266)\n",
            "batch_size_t =  tensor(25)\n",
            "t =  61\n",
            "dl tensor(266)\n",
            "batch_size_t =  tensor(25)\n",
            "t =  62\n",
            "dl tensor(266)\n",
            "batch_size_t =  tensor(25)\n",
            "t =  63\n",
            "dl tensor(266)\n",
            "batch_size_t =  tensor(25)\n",
            "t =  64\n",
            "dl tensor(266)\n",
            "batch_size_t =  tensor(25)\n",
            "t =  65\n",
            "dl tensor(266)\n",
            "batch_size_t =  tensor(24)\n",
            "t =  66\n",
            "dl tensor(266)\n",
            "batch_size_t =  tensor(24)\n",
            "t =  67\n",
            "dl tensor(266)\n",
            "batch_size_t =  tensor(24)\n",
            "t =  68\n",
            "dl tensor(266)\n",
            "batch_size_t =  tensor(24)\n",
            "t =  69\n",
            "dl tensor(266)\n",
            "batch_size_t =  tensor(24)\n",
            "t =  70\n",
            "dl tensor(266)\n",
            "batch_size_t =  tensor(24)\n",
            "t =  71\n"
          ]
        },
        {
          "output_type": "error",
          "ename": "IndexError",
          "evalue": "ignored",
          "traceback": [
            "\u001b[0;31m---------------------------------------------------------------------------\u001b[0m",
            "\u001b[0;31mIndexError\u001b[0m                                Traceback (most recent call last)",
            "\u001b[0;32m<ipython-input-87-8f414e12bae7>\u001b[0m in \u001b[0;36m<module>\u001b[0;34m()\u001b[0m\n\u001b[1;32m      1\u001b[0m \u001b[0;32mif\u001b[0m \u001b[0mtrain_model\u001b[0m\u001b[0;34m:\u001b[0m\u001b[0;34m\u001b[0m\u001b[0;34m\u001b[0m\u001b[0m\n\u001b[0;32m----> 2\u001b[0;31m     \u001b[0mtrain\u001b[0m\u001b[0;34m(\u001b[0m\u001b[0;34m)\u001b[0m\u001b[0;34m\u001b[0m\u001b[0;34m\u001b[0m\u001b[0m\n\u001b[0m\u001b[1;32m      3\u001b[0m \u001b[0;34m\u001b[0m\u001b[0m\n",
            "\u001b[0;32m<ipython-input-86-026e53b49f64>\u001b[0m in \u001b[0;36mtrain\u001b[0;34m()\u001b[0m\n\u001b[1;32m     20\u001b[0m             \u001b[0mcaps\u001b[0m \u001b[0;34m=\u001b[0m \u001b[0mtorch\u001b[0m\u001b[0;34m.\u001b[0m\u001b[0mLongTensor\u001b[0m\u001b[0;34m(\u001b[0m\u001b[0mtransform_captions\u001b[0m\u001b[0;34m(\u001b[0m\u001b[0mcaps\u001b[0m\u001b[0;34m)\u001b[0m\u001b[0;34m)\u001b[0m\u001b[0;34m.\u001b[0m\u001b[0mto\u001b[0m\u001b[0;34m(\u001b[0m\u001b[0mdevice\u001b[0m\u001b[0;34m)\u001b[0m\u001b[0;34m\u001b[0m\u001b[0;34m\u001b[0m\u001b[0m\n\u001b[1;32m     21\u001b[0m \u001b[0;34m\u001b[0m\u001b[0m\n\u001b[0;32m---> 22\u001b[0;31m             \u001b[0mscores\u001b[0m\u001b[0;34m,\u001b[0m \u001b[0mcaps_sorted\u001b[0m\u001b[0;34m,\u001b[0m \u001b[0mdecode_lengths\u001b[0m\u001b[0;34m,\u001b[0m \u001b[0malphas\u001b[0m \u001b[0;34m=\u001b[0m \u001b[0mdecoder\u001b[0m\u001b[0;34m(\u001b[0m\u001b[0mimgs\u001b[0m\u001b[0;34m,\u001b[0m \u001b[0mcaps\u001b[0m\u001b[0;34m,\u001b[0m \u001b[0mcaplens\u001b[0m\u001b[0;34m)\u001b[0m\u001b[0;34m\u001b[0m\u001b[0;34m\u001b[0m\u001b[0m\n\u001b[0m\u001b[1;32m     23\u001b[0m             \u001b[0mscores\u001b[0m \u001b[0;34m=\u001b[0m \u001b[0mpack_padded_sequence\u001b[0m\u001b[0;34m(\u001b[0m\u001b[0mscores\u001b[0m\u001b[0;34m,\u001b[0m \u001b[0mdecode_lengths\u001b[0m\u001b[0;34m,\u001b[0m \u001b[0mbatch_first\u001b[0m\u001b[0;34m=\u001b[0m\u001b[0;32mTrue\u001b[0m\u001b[0;34m)\u001b[0m\u001b[0;34m[\u001b[0m\u001b[0;36m0\u001b[0m\u001b[0;34m]\u001b[0m\u001b[0;34m\u001b[0m\u001b[0;34m\u001b[0m\u001b[0m\n\u001b[1;32m     24\u001b[0m \u001b[0;34m\u001b[0m\u001b[0m\n",
            "\u001b[0;32m/usr/local/lib/python3.7/dist-packages/torch/nn/modules/module.py\u001b[0m in \u001b[0;36m_call_impl\u001b[0;34m(self, *input, **kwargs)\u001b[0m\n\u001b[1;32m   1128\u001b[0m         if not (self._backward_hooks or self._forward_hooks or self._forward_pre_hooks or _global_backward_hooks\n\u001b[1;32m   1129\u001b[0m                 or _global_forward_hooks or _global_forward_pre_hooks):\n\u001b[0;32m-> 1130\u001b[0;31m             \u001b[0;32mreturn\u001b[0m \u001b[0mforward_call\u001b[0m\u001b[0;34m(\u001b[0m\u001b[0;34m*\u001b[0m\u001b[0minput\u001b[0m\u001b[0;34m,\u001b[0m \u001b[0;34m**\u001b[0m\u001b[0mkwargs\u001b[0m\u001b[0;34m)\u001b[0m\u001b[0;34m\u001b[0m\u001b[0;34m\u001b[0m\u001b[0m\n\u001b[0m\u001b[1;32m   1131\u001b[0m         \u001b[0;31m# Do not call functions when jit is used\u001b[0m\u001b[0;34m\u001b[0m\u001b[0;34m\u001b[0m\u001b[0;34m\u001b[0m\u001b[0m\n\u001b[1;32m   1132\u001b[0m         \u001b[0mfull_backward_hooks\u001b[0m\u001b[0;34m,\u001b[0m \u001b[0mnon_full_backward_hooks\u001b[0m \u001b[0;34m=\u001b[0m \u001b[0;34m[\u001b[0m\u001b[0;34m]\u001b[0m\u001b[0;34m,\u001b[0m \u001b[0;34m[\u001b[0m\u001b[0;34m]\u001b[0m\u001b[0;34m\u001b[0m\u001b[0;34m\u001b[0m\u001b[0m\n",
            "\u001b[0;32m<ipython-input-72-8bea6e483bb9>\u001b[0m in \u001b[0;36mforward\u001b[0;34m(self, encoder_out, encoded_captions, caption_lengths)\u001b[0m\n\u001b[1;32m    142\u001b[0m             \u001b[0mprint\u001b[0m\u001b[0;34m(\u001b[0m\u001b[0;34m\"batch_size_t = \"\u001b[0m\u001b[0;34m,\u001b[0m\u001b[0mbatch_size_t\u001b[0m\u001b[0;34m)\u001b[0m\u001b[0;34m\u001b[0m\u001b[0;34m\u001b[0m\u001b[0m\n\u001b[1;32m    143\u001b[0m             \u001b[0mprint\u001b[0m\u001b[0;34m(\u001b[0m\u001b[0;34m\"t = \"\u001b[0m\u001b[0;34m,\u001b[0m\u001b[0mt\u001b[0m\u001b[0;34m)\u001b[0m\u001b[0;34m\u001b[0m\u001b[0;34m\u001b[0m\u001b[0m\n\u001b[0;32m--> 144\u001b[0;31m             \u001b[0mbatch_embeds\u001b[0m \u001b[0;34m=\u001b[0m \u001b[0membeddings\u001b[0m\u001b[0;34m[\u001b[0m\u001b[0;34m:\u001b[0m\u001b[0mbatch_size_t\u001b[0m\u001b[0;34m,\u001b[0m \u001b[0mt\u001b[0m\u001b[0;34m,\u001b[0m \u001b[0;34m:\u001b[0m\u001b[0;34m]\u001b[0m\u001b[0;34m\u001b[0m\u001b[0;34m\u001b[0m\u001b[0m\n\u001b[0m\u001b[1;32m    145\u001b[0m             \u001b[0mcat_val\u001b[0m \u001b[0;34m=\u001b[0m \u001b[0mtorch\u001b[0m\u001b[0;34m.\u001b[0m\u001b[0mcat\u001b[0m\u001b[0;34m(\u001b[0m\u001b[0;34m[\u001b[0m\u001b[0mbatch_embeds\u001b[0m\u001b[0;34m.\u001b[0m\u001b[0mdouble\u001b[0m\u001b[0;34m(\u001b[0m\u001b[0;34m)\u001b[0m\u001b[0;34m,\u001b[0m \u001b[0mattention_weighted_encoding\u001b[0m\u001b[0;34m.\u001b[0m\u001b[0mdouble\u001b[0m\u001b[0;34m(\u001b[0m\u001b[0;34m)\u001b[0m\u001b[0;34m]\u001b[0m\u001b[0;34m,\u001b[0m \u001b[0mdim\u001b[0m\u001b[0;34m=\u001b[0m\u001b[0;36m1\u001b[0m\u001b[0;34m)\u001b[0m\u001b[0;34m\u001b[0m\u001b[0;34m\u001b[0m\u001b[0m\n\u001b[1;32m    146\u001b[0m \u001b[0;34m\u001b[0m\u001b[0m\n",
            "\u001b[0;31mIndexError\u001b[0m: index 71 is out of bounds for dimension 1 with size 71"
          ]
        }
      ],
      "source": [
        "if train_model:\n",
        "    train()\n",
        "\n"
      ]
    }
  ],
  "metadata": {
    "accelerator": "GPU",
    "colab": {
      "collapsed_sections": [],
      "name": "Copy of image_captioning_bert_21.04.22.ipynb",
      "provenance": [],
      "include_colab_link": true
    },
    "kernelspec": {
      "display_name": "Python 3",
      "name": "python3"
    },
    "language_info": {
      "name": "python"
    },
    "widgets": {
      "application/vnd.jupyter.widget-state+json": {
        "89a3eee92157438da77a561138ef75c3": {
          "model_module": "@jupyter-widgets/controls",
          "model_name": "HBoxModel",
          "model_module_version": "1.5.0",
          "state": {
            "_dom_classes": [],
            "_model_module": "@jupyter-widgets/controls",
            "_model_module_version": "1.5.0",
            "_model_name": "HBoxModel",
            "_view_count": null,
            "_view_module": "@jupyter-widgets/controls",
            "_view_module_version": "1.5.0",
            "_view_name": "HBoxView",
            "box_style": "",
            "children": [
              "IPY_MODEL_8dde0f4454e74f599a94620b90e2cc7c",
              "IPY_MODEL_788da77855714bf2ba62e9fe22d46649",
              "IPY_MODEL_a176a2750df24f6ab86d3a5796906dd9"
            ],
            "layout": "IPY_MODEL_f022df9bc48a4420a07f1878f6af4e5e"
          }
        },
        "8dde0f4454e74f599a94620b90e2cc7c": {
          "model_module": "@jupyter-widgets/controls",
          "model_name": "HTMLModel",
          "model_module_version": "1.5.0",
          "state": {
            "_dom_classes": [],
            "_model_module": "@jupyter-widgets/controls",
            "_model_module_version": "1.5.0",
            "_model_name": "HTMLModel",
            "_view_count": null,
            "_view_module": "@jupyter-widgets/controls",
            "_view_module_version": "1.5.0",
            "_view_name": "HTMLView",
            "description": "",
            "description_tooltip": null,
            "layout": "IPY_MODEL_4ba66ebf3e7b4d71b30bd1044906e36e",
            "placeholder": "​",
            "style": "IPY_MODEL_33b1734835794736a47d2aedb65190bd",
            "value": "  0%"
          }
        },
        "788da77855714bf2ba62e9fe22d46649": {
          "model_module": "@jupyter-widgets/controls",
          "model_name": "FloatProgressModel",
          "model_module_version": "1.5.0",
          "state": {
            "_dom_classes": [],
            "_model_module": "@jupyter-widgets/controls",
            "_model_module_version": "1.5.0",
            "_model_name": "FloatProgressModel",
            "_view_count": null,
            "_view_module": "@jupyter-widgets/controls",
            "_view_module_version": "1.5.0",
            "_view_name": "ProgressView",
            "bar_style": "danger",
            "description": "",
            "description_tooltip": null,
            "layout": "IPY_MODEL_36101aea758c459484edf359322a198e",
            "max": 4,
            "min": 0,
            "orientation": "horizontal",
            "style": "IPY_MODEL_5fb011bd6f0b40cd928071d23a9b87c4",
            "value": 0
          }
        },
        "a176a2750df24f6ab86d3a5796906dd9": {
          "model_module": "@jupyter-widgets/controls",
          "model_name": "HTMLModel",
          "model_module_version": "1.5.0",
          "state": {
            "_dom_classes": [],
            "_model_module": "@jupyter-widgets/controls",
            "_model_module_version": "1.5.0",
            "_model_name": "HTMLModel",
            "_view_count": null,
            "_view_module": "@jupyter-widgets/controls",
            "_view_module_version": "1.5.0",
            "_view_name": "HTMLView",
            "description": "",
            "description_tooltip": null,
            "layout": "IPY_MODEL_1848388a6b9e4bc3b606a8bcb9f85a91",
            "placeholder": "​",
            "style": "IPY_MODEL_9f8a9d1f9f3a44c0b84795c9dae376d5",
            "value": " 0/4 [00:01&lt;?, ?it/s]"
          }
        },
        "f022df9bc48a4420a07f1878f6af4e5e": {
          "model_module": "@jupyter-widgets/base",
          "model_name": "LayoutModel",
          "model_module_version": "1.2.0",
          "state": {
            "_model_module": "@jupyter-widgets/base",
            "_model_module_version": "1.2.0",
            "_model_name": "LayoutModel",
            "_view_count": null,
            "_view_module": "@jupyter-widgets/base",
            "_view_module_version": "1.2.0",
            "_view_name": "LayoutView",
            "align_content": null,
            "align_items": null,
            "align_self": null,
            "border": null,
            "bottom": null,
            "display": null,
            "flex": null,
            "flex_flow": null,
            "grid_area": null,
            "grid_auto_columns": null,
            "grid_auto_flow": null,
            "grid_auto_rows": null,
            "grid_column": null,
            "grid_gap": null,
            "grid_row": null,
            "grid_template_areas": null,
            "grid_template_columns": null,
            "grid_template_rows": null,
            "height": null,
            "justify_content": null,
            "justify_items": null,
            "left": null,
            "margin": null,
            "max_height": null,
            "max_width": null,
            "min_height": null,
            "min_width": null,
            "object_fit": null,
            "object_position": null,
            "order": null,
            "overflow": null,
            "overflow_x": null,
            "overflow_y": null,
            "padding": null,
            "right": null,
            "top": null,
            "visibility": null,
            "width": null
          }
        },
        "4ba66ebf3e7b4d71b30bd1044906e36e": {
          "model_module": "@jupyter-widgets/base",
          "model_name": "LayoutModel",
          "model_module_version": "1.2.0",
          "state": {
            "_model_module": "@jupyter-widgets/base",
            "_model_module_version": "1.2.0",
            "_model_name": "LayoutModel",
            "_view_count": null,
            "_view_module": "@jupyter-widgets/base",
            "_view_module_version": "1.2.0",
            "_view_name": "LayoutView",
            "align_content": null,
            "align_items": null,
            "align_self": null,
            "border": null,
            "bottom": null,
            "display": null,
            "flex": null,
            "flex_flow": null,
            "grid_area": null,
            "grid_auto_columns": null,
            "grid_auto_flow": null,
            "grid_auto_rows": null,
            "grid_column": null,
            "grid_gap": null,
            "grid_row": null,
            "grid_template_areas": null,
            "grid_template_columns": null,
            "grid_template_rows": null,
            "height": null,
            "justify_content": null,
            "justify_items": null,
            "left": null,
            "margin": null,
            "max_height": null,
            "max_width": null,
            "min_height": null,
            "min_width": null,
            "object_fit": null,
            "object_position": null,
            "order": null,
            "overflow": null,
            "overflow_x": null,
            "overflow_y": null,
            "padding": null,
            "right": null,
            "top": null,
            "visibility": null,
            "width": null
          }
        },
        "33b1734835794736a47d2aedb65190bd": {
          "model_module": "@jupyter-widgets/controls",
          "model_name": "DescriptionStyleModel",
          "model_module_version": "1.5.0",
          "state": {
            "_model_module": "@jupyter-widgets/controls",
            "_model_module_version": "1.5.0",
            "_model_name": "DescriptionStyleModel",
            "_view_count": null,
            "_view_module": "@jupyter-widgets/base",
            "_view_module_version": "1.2.0",
            "_view_name": "StyleView",
            "description_width": ""
          }
        },
        "36101aea758c459484edf359322a198e": {
          "model_module": "@jupyter-widgets/base",
          "model_name": "LayoutModel",
          "model_module_version": "1.2.0",
          "state": {
            "_model_module": "@jupyter-widgets/base",
            "_model_module_version": "1.2.0",
            "_model_name": "LayoutModel",
            "_view_count": null,
            "_view_module": "@jupyter-widgets/base",
            "_view_module_version": "1.2.0",
            "_view_name": "LayoutView",
            "align_content": null,
            "align_items": null,
            "align_self": null,
            "border": null,
            "bottom": null,
            "display": null,
            "flex": null,
            "flex_flow": null,
            "grid_area": null,
            "grid_auto_columns": null,
            "grid_auto_flow": null,
            "grid_auto_rows": null,
            "grid_column": null,
            "grid_gap": null,
            "grid_row": null,
            "grid_template_areas": null,
            "grid_template_columns": null,
            "grid_template_rows": null,
            "height": null,
            "justify_content": null,
            "justify_items": null,
            "left": null,
            "margin": null,
            "max_height": null,
            "max_width": null,
            "min_height": null,
            "min_width": null,
            "object_fit": null,
            "object_position": null,
            "order": null,
            "overflow": null,
            "overflow_x": null,
            "overflow_y": null,
            "padding": null,
            "right": null,
            "top": null,
            "visibility": null,
            "width": null
          }
        },
        "5fb011bd6f0b40cd928071d23a9b87c4": {
          "model_module": "@jupyter-widgets/controls",
          "model_name": "ProgressStyleModel",
          "model_module_version": "1.5.0",
          "state": {
            "_model_module": "@jupyter-widgets/controls",
            "_model_module_version": "1.5.0",
            "_model_name": "ProgressStyleModel",
            "_view_count": null,
            "_view_module": "@jupyter-widgets/base",
            "_view_module_version": "1.2.0",
            "_view_name": "StyleView",
            "bar_color": null,
            "description_width": ""
          }
        },
        "1848388a6b9e4bc3b606a8bcb9f85a91": {
          "model_module": "@jupyter-widgets/base",
          "model_name": "LayoutModel",
          "model_module_version": "1.2.0",
          "state": {
            "_model_module": "@jupyter-widgets/base",
            "_model_module_version": "1.2.0",
            "_model_name": "LayoutModel",
            "_view_count": null,
            "_view_module": "@jupyter-widgets/base",
            "_view_module_version": "1.2.0",
            "_view_name": "LayoutView",
            "align_content": null,
            "align_items": null,
            "align_self": null,
            "border": null,
            "bottom": null,
            "display": null,
            "flex": null,
            "flex_flow": null,
            "grid_area": null,
            "grid_auto_columns": null,
            "grid_auto_flow": null,
            "grid_auto_rows": null,
            "grid_column": null,
            "grid_gap": null,
            "grid_row": null,
            "grid_template_areas": null,
            "grid_template_columns": null,
            "grid_template_rows": null,
            "height": null,
            "justify_content": null,
            "justify_items": null,
            "left": null,
            "margin": null,
            "max_height": null,
            "max_width": null,
            "min_height": null,
            "min_width": null,
            "object_fit": null,
            "object_position": null,
            "order": null,
            "overflow": null,
            "overflow_x": null,
            "overflow_y": null,
            "padding": null,
            "right": null,
            "top": null,
            "visibility": null,
            "width": null
          }
        },
        "9f8a9d1f9f3a44c0b84795c9dae376d5": {
          "model_module": "@jupyter-widgets/controls",
          "model_name": "DescriptionStyleModel",
          "model_module_version": "1.5.0",
          "state": {
            "_model_module": "@jupyter-widgets/controls",
            "_model_module_version": "1.5.0",
            "_model_name": "DescriptionStyleModel",
            "_view_count": null,
            "_view_module": "@jupyter-widgets/base",
            "_view_module_version": "1.2.0",
            "_view_name": "StyleView",
            "description_width": ""
          }
        },
        "a2ea8cef6bdb47f8b1d79049310919d0": {
          "model_module": "@jupyter-widgets/controls",
          "model_name": "HBoxModel",
          "model_module_version": "1.5.0",
          "state": {
            "_dom_classes": [],
            "_model_module": "@jupyter-widgets/controls",
            "_model_module_version": "1.5.0",
            "_model_name": "HBoxModel",
            "_view_count": null,
            "_view_module": "@jupyter-widgets/controls",
            "_view_module_version": "1.5.0",
            "_view_name": "HBoxView",
            "box_style": "",
            "children": [
              "IPY_MODEL_aa847ca19dfd4896af10e372b87ae0d6",
              "IPY_MODEL_4f467e2680da49b59b200daaa90aef37",
              "IPY_MODEL_f2026e868f034fe5916f151c9670e71c"
            ],
            "layout": "IPY_MODEL_2088ccaa2f7d449ca21081d7597a6585"
          }
        },
        "aa847ca19dfd4896af10e372b87ae0d6": {
          "model_module": "@jupyter-widgets/controls",
          "model_name": "HTMLModel",
          "model_module_version": "1.5.0",
          "state": {
            "_dom_classes": [],
            "_model_module": "@jupyter-widgets/controls",
            "_model_module_version": "1.5.0",
            "_model_name": "HTMLModel",
            "_view_count": null,
            "_view_module": "@jupyter-widgets/controls",
            "_view_module_version": "1.5.0",
            "_view_name": "HTMLView",
            "description": "",
            "description_tooltip": null,
            "layout": "IPY_MODEL_63f90d79b80d4d90a74ce4773e145a34",
            "placeholder": "​",
            "style": "IPY_MODEL_5fe38535a3f1429c80901ee87186f52d",
            "value": "  0%"
          }
        },
        "4f467e2680da49b59b200daaa90aef37": {
          "model_module": "@jupyter-widgets/controls",
          "model_name": "FloatProgressModel",
          "model_module_version": "1.5.0",
          "state": {
            "_dom_classes": [],
            "_model_module": "@jupyter-widgets/controls",
            "_model_module_version": "1.5.0",
            "_model_name": "FloatProgressModel",
            "_view_count": null,
            "_view_module": "@jupyter-widgets/controls",
            "_view_module_version": "1.5.0",
            "_view_name": "ProgressView",
            "bar_style": "danger",
            "description": "",
            "description_tooltip": null,
            "layout": "IPY_MODEL_e739a1963c4a4c1e87e3b41dac28e084",
            "max": 3,
            "min": 0,
            "orientation": "horizontal",
            "style": "IPY_MODEL_4eb980bb2d1249df89d306fe16d741e0",
            "value": 0
          }
        },
        "f2026e868f034fe5916f151c9670e71c": {
          "model_module": "@jupyter-widgets/controls",
          "model_name": "HTMLModel",
          "model_module_version": "1.5.0",
          "state": {
            "_dom_classes": [],
            "_model_module": "@jupyter-widgets/controls",
            "_model_module_version": "1.5.0",
            "_model_name": "HTMLModel",
            "_view_count": null,
            "_view_module": "@jupyter-widgets/controls",
            "_view_module_version": "1.5.0",
            "_view_name": "HTMLView",
            "description": "",
            "description_tooltip": null,
            "layout": "IPY_MODEL_491baac179ea473e9b677082551a8ddc",
            "placeholder": "​",
            "style": "IPY_MODEL_cab1bac21c5c4e4d92b375fe918fa50e",
            "value": " 0/3 [00:01&lt;?, ?it/s]"
          }
        },
        "2088ccaa2f7d449ca21081d7597a6585": {
          "model_module": "@jupyter-widgets/base",
          "model_name": "LayoutModel",
          "model_module_version": "1.2.0",
          "state": {
            "_model_module": "@jupyter-widgets/base",
            "_model_module_version": "1.2.0",
            "_model_name": "LayoutModel",
            "_view_count": null,
            "_view_module": "@jupyter-widgets/base",
            "_view_module_version": "1.2.0",
            "_view_name": "LayoutView",
            "align_content": null,
            "align_items": null,
            "align_self": null,
            "border": null,
            "bottom": null,
            "display": null,
            "flex": null,
            "flex_flow": null,
            "grid_area": null,
            "grid_auto_columns": null,
            "grid_auto_flow": null,
            "grid_auto_rows": null,
            "grid_column": null,
            "grid_gap": null,
            "grid_row": null,
            "grid_template_areas": null,
            "grid_template_columns": null,
            "grid_template_rows": null,
            "height": null,
            "justify_content": null,
            "justify_items": null,
            "left": null,
            "margin": null,
            "max_height": null,
            "max_width": null,
            "min_height": null,
            "min_width": null,
            "object_fit": null,
            "object_position": null,
            "order": null,
            "overflow": null,
            "overflow_x": null,
            "overflow_y": null,
            "padding": null,
            "right": null,
            "top": null,
            "visibility": null,
            "width": null
          }
        },
        "63f90d79b80d4d90a74ce4773e145a34": {
          "model_module": "@jupyter-widgets/base",
          "model_name": "LayoutModel",
          "model_module_version": "1.2.0",
          "state": {
            "_model_module": "@jupyter-widgets/base",
            "_model_module_version": "1.2.0",
            "_model_name": "LayoutModel",
            "_view_count": null,
            "_view_module": "@jupyter-widgets/base",
            "_view_module_version": "1.2.0",
            "_view_name": "LayoutView",
            "align_content": null,
            "align_items": null,
            "align_self": null,
            "border": null,
            "bottom": null,
            "display": null,
            "flex": null,
            "flex_flow": null,
            "grid_area": null,
            "grid_auto_columns": null,
            "grid_auto_flow": null,
            "grid_auto_rows": null,
            "grid_column": null,
            "grid_gap": null,
            "grid_row": null,
            "grid_template_areas": null,
            "grid_template_columns": null,
            "grid_template_rows": null,
            "height": null,
            "justify_content": null,
            "justify_items": null,
            "left": null,
            "margin": null,
            "max_height": null,
            "max_width": null,
            "min_height": null,
            "min_width": null,
            "object_fit": null,
            "object_position": null,
            "order": null,
            "overflow": null,
            "overflow_x": null,
            "overflow_y": null,
            "padding": null,
            "right": null,
            "top": null,
            "visibility": null,
            "width": null
          }
        },
        "5fe38535a3f1429c80901ee87186f52d": {
          "model_module": "@jupyter-widgets/controls",
          "model_name": "DescriptionStyleModel",
          "model_module_version": "1.5.0",
          "state": {
            "_model_module": "@jupyter-widgets/controls",
            "_model_module_version": "1.5.0",
            "_model_name": "DescriptionStyleModel",
            "_view_count": null,
            "_view_module": "@jupyter-widgets/base",
            "_view_module_version": "1.2.0",
            "_view_name": "StyleView",
            "description_width": ""
          }
        },
        "e739a1963c4a4c1e87e3b41dac28e084": {
          "model_module": "@jupyter-widgets/base",
          "model_name": "LayoutModel",
          "model_module_version": "1.2.0",
          "state": {
            "_model_module": "@jupyter-widgets/base",
            "_model_module_version": "1.2.0",
            "_model_name": "LayoutModel",
            "_view_count": null,
            "_view_module": "@jupyter-widgets/base",
            "_view_module_version": "1.2.0",
            "_view_name": "LayoutView",
            "align_content": null,
            "align_items": null,
            "align_self": null,
            "border": null,
            "bottom": null,
            "display": null,
            "flex": null,
            "flex_flow": null,
            "grid_area": null,
            "grid_auto_columns": null,
            "grid_auto_flow": null,
            "grid_auto_rows": null,
            "grid_column": null,
            "grid_gap": null,
            "grid_row": null,
            "grid_template_areas": null,
            "grid_template_columns": null,
            "grid_template_rows": null,
            "height": null,
            "justify_content": null,
            "justify_items": null,
            "left": null,
            "margin": null,
            "max_height": null,
            "max_width": null,
            "min_height": null,
            "min_width": null,
            "object_fit": null,
            "object_position": null,
            "order": null,
            "overflow": null,
            "overflow_x": null,
            "overflow_y": null,
            "padding": null,
            "right": null,
            "top": null,
            "visibility": null,
            "width": null
          }
        },
        "4eb980bb2d1249df89d306fe16d741e0": {
          "model_module": "@jupyter-widgets/controls",
          "model_name": "ProgressStyleModel",
          "model_module_version": "1.5.0",
          "state": {
            "_model_module": "@jupyter-widgets/controls",
            "_model_module_version": "1.5.0",
            "_model_name": "ProgressStyleModel",
            "_view_count": null,
            "_view_module": "@jupyter-widgets/base",
            "_view_module_version": "1.2.0",
            "_view_name": "StyleView",
            "bar_color": null,
            "description_width": ""
          }
        },
        "491baac179ea473e9b677082551a8ddc": {
          "model_module": "@jupyter-widgets/base",
          "model_name": "LayoutModel",
          "model_module_version": "1.2.0",
          "state": {
            "_model_module": "@jupyter-widgets/base",
            "_model_module_version": "1.2.0",
            "_model_name": "LayoutModel",
            "_view_count": null,
            "_view_module": "@jupyter-widgets/base",
            "_view_module_version": "1.2.0",
            "_view_name": "LayoutView",
            "align_content": null,
            "align_items": null,
            "align_self": null,
            "border": null,
            "bottom": null,
            "display": null,
            "flex": null,
            "flex_flow": null,
            "grid_area": null,
            "grid_auto_columns": null,
            "grid_auto_flow": null,
            "grid_auto_rows": null,
            "grid_column": null,
            "grid_gap": null,
            "grid_row": null,
            "grid_template_areas": null,
            "grid_template_columns": null,
            "grid_template_rows": null,
            "height": null,
            "justify_content": null,
            "justify_items": null,
            "left": null,
            "margin": null,
            "max_height": null,
            "max_width": null,
            "min_height": null,
            "min_width": null,
            "object_fit": null,
            "object_position": null,
            "order": null,
            "overflow": null,
            "overflow_x": null,
            "overflow_y": null,
            "padding": null,
            "right": null,
            "top": null,
            "visibility": null,
            "width": null
          }
        },
        "cab1bac21c5c4e4d92b375fe918fa50e": {
          "model_module": "@jupyter-widgets/controls",
          "model_name": "DescriptionStyleModel",
          "model_module_version": "1.5.0",
          "state": {
            "_model_module": "@jupyter-widgets/controls",
            "_model_module_version": "1.5.0",
            "_model_name": "DescriptionStyleModel",
            "_view_count": null,
            "_view_module": "@jupyter-widgets/base",
            "_view_module_version": "1.2.0",
            "_view_name": "StyleView",
            "description_width": ""
          }
        }
      }
    }
  },
  "nbformat": 4,
  "nbformat_minor": 0
}